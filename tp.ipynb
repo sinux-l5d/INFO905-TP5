{
 "cells": [
  {
   "cell_type": "markdown",
   "metadata": {},
   "source": [
    "# Reinforcement Learning"
   ]
  },
  {
   "cell_type": "code",
   "execution_count": 51,
   "metadata": {},
   "outputs": [
    {
     "name": "stdout",
     "output_type": "stream",
     "text": [
      "....\n",
      "...¤\n",
      "@.ox\n",
      "....\n",
      "\n"
     ]
    }
   ],
   "source": [
    "from environment import Game\n",
    "import numpy as np\n",
    "\n",
    "g = Game(4, 4, wrong_action_p=0.0)\n",
    "q = np.zeros((16, 4))\n",
    "g.print()"
   ]
  },
  {
   "cell_type": "markdown",
   "metadata": {},
   "source": [
    "## Entrainement"
   ]
  },
  {
   "cell_type": "code",
   "execution_count": 59,
   "metadata": {},
   "outputs": [],
   "source": [
    "g.wrong_action_p = 0.1\n",
    "iterations = 1000\n",
    "alpha = 0.1 # taux d’apprentissage\n",
    "gamma = 0.9 # interet des récompenses futurs\n",
    "for _ in range(iterations):\n",
    "    g.reset()\n",
    "    is_final = False\n",
    "    while not is_final:\n",
    "        state_id = g._get_state()\n",
    "        # mov = choice(g.ACTIONS)\n",
    "        mov = np.argmax(q[state_id, :] + np.random.randn(1, 4) * (1. / (iterations + 1)))\n",
    "        (new_state_id, reward, is_final, _) = g.move(mov)\n",
    "        q[state_id, mov] += alpha * (reward + gamma * np.max(q[new_state_id, :]) - q[state_id, mov])\n"
   ]
  },
  {
   "cell_type": "markdown",
   "metadata": {},
   "source": [
    "## Démonstration"
   ]
  },
  {
   "cell_type": "code",
   "execution_count": 62,
   "metadata": {},
   "outputs": [
    {
     "name": "stdout",
     "output_type": "stream",
     "text": [
      "....\n",
      "...¤\n",
      "@.ox\n",
      "....\n",
      "\n",
      "....\n",
      "...¤\n",
      "@.o.\n",
      "...x\n",
      "\n",
      "....\n",
      "...¤\n",
      "@.o.\n",
      "..x.\n",
      "\n",
      "....\n",
      "...¤\n",
      "@.o.\n",
      ".x..\n",
      "\n",
      "....\n",
      "...¤\n",
      "@.o.\n",
      "x...\n",
      "\n",
      "....\n",
      "...¤\n",
      "x.o.\n",
      "....\n",
      "\n",
      "Score:  6\n"
     ]
    }
   ],
   "source": [
    "\n",
    "# Show a game\n",
    "g.wrong_action_p = 0.0\n",
    "g.reset()\n",
    "g.print()\n",
    "is_final = False\n",
    "score = 0\n",
    "while not is_final:\n",
    "    state_id = g._get_state()\n",
    "    mov = np.argmax(q[state_id, :])\n",
    "    (new_state_id, reward, is_final, _) = g.move(mov)\n",
    "    score += reward\n",
    "    g.print()\n",
    "print(\"Score: \", score)\n",
    "\n",
    "\n"
   ]
  }
 ],
 "metadata": {
  "kernelspec": {
   "display_name": "Python 3",
   "language": "python",
   "name": "python3"
  },
  "language_info": {
   "codemirror_mode": {
    "name": "ipython",
    "version": 3
   },
   "file_extension": ".py",
   "mimetype": "text/x-python",
   "name": "python",
   "nbconvert_exporter": "python",
   "pygments_lexer": "ipython3",
   "version": "3.11.6"
  }
 },
 "nbformat": 4,
 "nbformat_minor": 2
}
