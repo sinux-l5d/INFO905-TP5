{
 "cells": [
  {
   "cell_type": "markdown",
   "metadata": {},
   "source": [
    "# Reinforcement Learning"
   ]
  },
  {
   "cell_type": "code",
   "execution_count": 10,
   "metadata": {},
   "outputs": [
    {
     "name": "stdout",
     "output_type": "stream",
     "text": [
      "xo..\n",
      "....\n",
      ".¤..\n",
      ".@..\n",
      "\n",
      "Correspondance ID/position:\n",
      "3 7 11 15 \n",
      "2 6 10 14 \n",
      "1 5 9 13 \n",
      "0 4 8 12 \n",
      "\n",
      "Position du joueur (x) : (3, 0)\n"
     ]
    }
   ],
   "source": [
    "from environment import Game\n",
    "import numpy as np\n",
    "\n",
    "g = Game(4, 4)\n",
    "q = np.zeros((16, 4))\n",
    "print(g)\n",
    "print(\"Correspondance ID/position:\")\n",
    "print(g.affiche(debug=True))\n",
    "print(\"Position du joueur (x) :\", g.position)"
   ]
  },
  {
   "cell_type": "markdown",
   "metadata": {},
   "source": [
    "## Entrainement"
   ]
  },
  {
   "cell_type": "code",
   "execution_count": 11,
   "metadata": {},
   "outputs": [],
   "source": [
    "g.wrong_action_p = 0.0\n",
    "iterations = 1000\n",
    "alpha = 0.1 # taux d’apprentissage\n",
    "gamma = 0.9 # interet des récompenses futurs\n",
    "for _ in range(iterations):\n",
    "    g.reset()\n",
    "    is_final = False\n",
    "    while not is_final:\n",
    "        state_id = g._get_state()\n",
    "        # Au début du renforcement, on explore aléatoirement\n",
    "        # plus on avance, plus on exploite ce que l'on a appris\n",
    "        mov = np.argmax(q[state_id, :] + np.random.randn(1, 4) * (1. / (iterations + 1)))\n",
    "        (new_state_id, reward, is_final, _) = g.move(mov)\n",
    "        q[state_id, mov] += alpha * (reward + gamma * np.max(q[new_state_id, :]) - q[state_id, mov])\n"
   ]
  },
  {
   "cell_type": "markdown",
   "metadata": {},
   "source": [
    "## Démonstration"
   ]
  },
  {
   "cell_type": "code",
   "execution_count": 12,
   "metadata": {},
   "outputs": [
    {
     "name": "stdout",
     "output_type": "stream",
     "text": [
      "Score:  7\n",
      "xo..  .o..  .o..  .o..  .o..\n",
      "....  x...  ....  ....  ....\n",
      ".¤..  .¤..  x¤..  .¤..  .¤..\n",
      ".@..  .@..  .@..  x@..  .x..\n",
      "        \n",
      "[[-0.109      -0.1        -0.1        10.        ]\n",
      " [-0.199      -0.199       8.         -0.199     ]\n",
      " [-0.58935714 -0.58519851  6.2        -0.59855283]\n",
      " [-1.22478977 -1.22478977  4.58       -1.9       ]\n",
      " [ 0.          0.          0.          0.        ]\n",
      " [ 0.          0.          0.          0.        ]\n",
      " [-1.         -0.4566435  -0.3940399  -0.361     ]\n",
      " [ 0.          0.          0.          0.        ]\n",
      " [-0.1         1.          0.         -0.1       ]\n",
      " [-0.1        -0.1        -0.19       -0.1       ]\n",
      " [-0.19       -0.20791    -0.199      -0.1       ]\n",
      " [-0.1        -1.         -0.109       0.        ]\n",
      " [-0.1        -0.1         0.          0.        ]\n",
      " [-0.1        -0.1        -0.1        -0.1       ]\n",
      " [-0.1        -0.1        -0.1        -0.1       ]\n",
      " [ 0.          0.         -0.1         0.        ]]\n"
     ]
    }
   ],
   "source": [
    "\n",
    "# Show a game\n",
    "g.wrong_action_p = 0.0\n",
    "g.reset()\n",
    "is_final = False\n",
    "score = 0\n",
    "s = g.__str__()\n",
    "while not is_final:\n",
    "    state_id = g._get_state()\n",
    "    mov = np.argmax(q[state_id, :])\n",
    "    (new_state_id, reward, is_final, _) = g.move(mov)\n",
    "    score += reward\n",
    "    s = '\\n'.join([x + '  ' + y for x, y in zip(s.split('\\n'), g.__str__().split('\\n'))])\n",
    "print(\"Score: \", score)\n",
    "print(s)\n",
    "print(q)\n"
   ]
  }
 ],
 "metadata": {
  "kernelspec": {
   "display_name": "Python 3",
   "language": "python",
   "name": "python3"
  },
  "language_info": {
   "codemirror_mode": {
    "name": "ipython",
    "version": 3
   },
   "file_extension": ".py",
   "mimetype": "text/x-python",
   "name": "python",
   "nbconvert_exporter": "python",
   "pygments_lexer": "ipython3",
   "version": "3.11.6"
  }
 },
 "nbformat": 4,
 "nbformat_minor": 2
}
